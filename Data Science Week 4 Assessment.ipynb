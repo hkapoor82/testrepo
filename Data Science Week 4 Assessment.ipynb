{
 "cells": [
  {
   "cell_type": "markdown",
   "metadata": {
    "collapsed": true
   },
   "source": [
    "# My Jupyter Notebook on IBM Watson Studio"
   ]
  },
  {
   "cell_type": "markdown",
   "metadata": {},
   "source": [
    "<b>Hrshi Kapoor<b>\n",
    "\n",
    "Offerings and Solutions Development"
   ]
  },
  {
   "cell_type": "markdown",
   "metadata": {},
   "source": [
    "<i> I am interested in data science because using the tools and skillsets of a data scientist will allow me to make more effective decisions in my daily life. Manipulating data to draw insights that maybe useful to organizations is rewarding and fun!"
   ]
  },
  {
   "cell_type": "markdown",
   "metadata": {},
   "source": [
    "<h3> This code tests basic mathematical functions. Below we are testing addition."
   ]
  },
  {
   "cell_type": "code",
   "execution_count": 1,
   "metadata": {},
   "outputs": [
    {
     "data": {
      "text/plain": [
       "20"
      ]
     },
     "execution_count": 1,
     "metadata": {},
     "output_type": "execute_result"
    }
   ],
   "source": [
    "5+15"
   ]
  },
  {
   "cell_type": "markdown",
   "metadata": {},
   "source": [
    "---\n",
    "\n",
    "Additional functions in Jupyter Notebooks\n",
    "- Multiplication\n",
    "- Division'\n",
    "- Subtraction\n",
    "\n",
    "__[To learn more go to google](https://www.google.com)__\n",
    "\n",
    "There are also a variety of other plots that can be triggered in R. These are described in the table below. \n",
    "\n",
    "|Function|Description|\n",
    "|------------|---------------------------------------------------------------------------|\n",
    "|Histogram|Good for understanding the spread of data around a mean|\n",
    "|Pie Chart|Good for understanding how a population is split between categories|\n",
    "|Line Chart|Good for giving a view on any trends in a data set|"
   ]
  },
  {
   "cell_type": "markdown",
   "metadata": {},
   "source": [
    "|Name|Address|Salary| \n",
    "|-----|-------|------| \n",
    "|Hanna|Brisbane|4000| \n",
    "|Adam|Sydney|5000|\n",
    "|Hrshi|Walsall|1000|"
   ]
  },
  {
   "cell_type": "code",
   "execution_count": null,
   "metadata": {},
   "outputs": [],
   "source": []
  }
 ],
 "metadata": {
  "kernelspec": {
   "display_name": "Python 3.9",
   "language": "python",
   "name": "python3"
  },
  "language_info": {
   "codemirror_mode": {
    "name": "ipython",
    "version": 3
   },
   "file_extension": ".py",
   "mimetype": "text/x-python",
   "name": "python",
   "nbconvert_exporter": "python",
   "pygments_lexer": "ipython3",
   "version": "3.9.12"
  }
 },
 "nbformat": 4,
 "nbformat_minor": 1
}
